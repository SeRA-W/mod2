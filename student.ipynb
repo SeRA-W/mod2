{
 "cells": [
  {
   "cell_type": "markdown",
   "metadata": {},
   "source": [
    "## Final Project Submission\n",
    "\n",
    "Please fill out:\n",
    "* Student name: \n",
    "* Student pace: self paced / part time / full time\n",
    "* Scheduled project review date/time: \n",
    "* Instructor name: \n",
    "* Blog post URL:\n"
   ]
  },
  {
   "cell_type": "markdown",
   "metadata": {},
   "source": [
    "### Project Approach"
   ]
  },
  {
   "cell_type": "markdown",
   "metadata": {},
   "source": [
    "The purpose of this project is to leverage linear regression to help not only home sellers to identify features that will boost home prices but also to guide home buyers to determine whether a house is over or under valued based on its features."
   ]
  },
  {
   "cell_type": "markdown",
   "metadata": {},
   "source": [
    "The model will be built following the OSEMIN framework. The framework provides guidelines to working on data problems using these four steps Obtain, Scrub, Explore, and Model."
   ]
  },
  {
   "cell_type": "markdown",
   "metadata": {},
   "source": [
    "### Obtain data"
   ]
  },
  {
   "cell_type": "markdown",
   "metadata": {},
   "source": [
    "#### Import Data"
   ]
  },
  {
   "cell_type": "code",
   "execution_count": 2,
   "metadata": {},
   "outputs": [],
   "source": [
    "# Your code here - remember to use markdown cells for comments as well!\n",
    "import pandas as pd\n",
    "data = pd.read_csv(\"kc_house_data.csv\")"
   ]
  },
  {
   "cell_type": "code",
   "execution_count": 3,
   "metadata": {
    "scrolled": true
   },
   "outputs": [
    {
     "data": {
      "text/html": [
       "<div>\n",
       "<style scoped>\n",
       "    .dataframe tbody tr th:only-of-type {\n",
       "        vertical-align: middle;\n",
       "    }\n",
       "\n",
       "    .dataframe tbody tr th {\n",
       "        vertical-align: top;\n",
       "    }\n",
       "\n",
       "    .dataframe thead th {\n",
       "        text-align: right;\n",
       "    }\n",
       "</style>\n",
       "<table border=\"1\" class=\"dataframe\">\n",
       "  <thead>\n",
       "    <tr style=\"text-align: right;\">\n",
       "      <th></th>\n",
       "      <th>id</th>\n",
       "      <th>date</th>\n",
       "      <th>price</th>\n",
       "      <th>bedrooms</th>\n",
       "      <th>bathrooms</th>\n",
       "      <th>sqft_living</th>\n",
       "      <th>sqft_lot</th>\n",
       "      <th>floors</th>\n",
       "      <th>waterfront</th>\n",
       "      <th>view</th>\n",
       "      <th>...</th>\n",
       "      <th>grade</th>\n",
       "      <th>sqft_above</th>\n",
       "      <th>sqft_basement</th>\n",
       "      <th>yr_built</th>\n",
       "      <th>yr_renovated</th>\n",
       "      <th>zipcode</th>\n",
       "      <th>lat</th>\n",
       "      <th>long</th>\n",
       "      <th>sqft_living15</th>\n",
       "      <th>sqft_lot15</th>\n",
       "    </tr>\n",
       "  </thead>\n",
       "  <tbody>\n",
       "    <tr>\n",
       "      <th>0</th>\n",
       "      <td>7129300520</td>\n",
       "      <td>10/13/2014</td>\n",
       "      <td>221900</td>\n",
       "      <td>3</td>\n",
       "      <td>1.00</td>\n",
       "      <td>1180</td>\n",
       "      <td>5650</td>\n",
       "      <td>1.0</td>\n",
       "      <td>NaN</td>\n",
       "      <td>0.0</td>\n",
       "      <td>...</td>\n",
       "      <td>7</td>\n",
       "      <td>1180</td>\n",
       "      <td>0</td>\n",
       "      <td>1955</td>\n",
       "      <td>0.0</td>\n",
       "      <td>98178</td>\n",
       "      <td>47.5112</td>\n",
       "      <td>-122.257</td>\n",
       "      <td>1340</td>\n",
       "      <td>5650</td>\n",
       "    </tr>\n",
       "    <tr>\n",
       "      <th>1</th>\n",
       "      <td>6414100192</td>\n",
       "      <td>12/9/2014</td>\n",
       "      <td>538000</td>\n",
       "      <td>3</td>\n",
       "      <td>2.25</td>\n",
       "      <td>2570</td>\n",
       "      <td>7242</td>\n",
       "      <td>2.0</td>\n",
       "      <td>0.0</td>\n",
       "      <td>0.0</td>\n",
       "      <td>...</td>\n",
       "      <td>7</td>\n",
       "      <td>2170</td>\n",
       "      <td>400</td>\n",
       "      <td>1951</td>\n",
       "      <td>1991.0</td>\n",
       "      <td>98125</td>\n",
       "      <td>47.7210</td>\n",
       "      <td>-122.319</td>\n",
       "      <td>1690</td>\n",
       "      <td>7639</td>\n",
       "    </tr>\n",
       "    <tr>\n",
       "      <th>2</th>\n",
       "      <td>5631500400</td>\n",
       "      <td>2/25/2015</td>\n",
       "      <td>180000</td>\n",
       "      <td>2</td>\n",
       "      <td>1.00</td>\n",
       "      <td>770</td>\n",
       "      <td>10000</td>\n",
       "      <td>1.0</td>\n",
       "      <td>0.0</td>\n",
       "      <td>0.0</td>\n",
       "      <td>...</td>\n",
       "      <td>6</td>\n",
       "      <td>770</td>\n",
       "      <td>0</td>\n",
       "      <td>1933</td>\n",
       "      <td>NaN</td>\n",
       "      <td>98028</td>\n",
       "      <td>47.7379</td>\n",
       "      <td>-122.233</td>\n",
       "      <td>2720</td>\n",
       "      <td>8062</td>\n",
       "    </tr>\n",
       "    <tr>\n",
       "      <th>3</th>\n",
       "      <td>2487200875</td>\n",
       "      <td>12/9/2014</td>\n",
       "      <td>604000</td>\n",
       "      <td>4</td>\n",
       "      <td>3.00</td>\n",
       "      <td>1960</td>\n",
       "      <td>5000</td>\n",
       "      <td>1.0</td>\n",
       "      <td>0.0</td>\n",
       "      <td>0.0</td>\n",
       "      <td>...</td>\n",
       "      <td>7</td>\n",
       "      <td>1050</td>\n",
       "      <td>910</td>\n",
       "      <td>1965</td>\n",
       "      <td>0.0</td>\n",
       "      <td>98136</td>\n",
       "      <td>47.5208</td>\n",
       "      <td>-122.393</td>\n",
       "      <td>1360</td>\n",
       "      <td>5000</td>\n",
       "    </tr>\n",
       "    <tr>\n",
       "      <th>4</th>\n",
       "      <td>1954400510</td>\n",
       "      <td>2/18/2015</td>\n",
       "      <td>510000</td>\n",
       "      <td>3</td>\n",
       "      <td>2.00</td>\n",
       "      <td>1680</td>\n",
       "      <td>8080</td>\n",
       "      <td>1.0</td>\n",
       "      <td>0.0</td>\n",
       "      <td>0.0</td>\n",
       "      <td>...</td>\n",
       "      <td>8</td>\n",
       "      <td>1680</td>\n",
       "      <td>0</td>\n",
       "      <td>1987</td>\n",
       "      <td>0.0</td>\n",
       "      <td>98074</td>\n",
       "      <td>47.6168</td>\n",
       "      <td>-122.045</td>\n",
       "      <td>1800</td>\n",
       "      <td>7503</td>\n",
       "    </tr>\n",
       "  </tbody>\n",
       "</table>\n",
       "<p>5 rows × 21 columns</p>\n",
       "</div>"
      ],
      "text/plain": [
       "           id        date   price  bedrooms  bathrooms  sqft_living  sqft_lot  \\\n",
       "0  7129300520  10/13/2014  221900         3       1.00         1180      5650   \n",
       "1  6414100192   12/9/2014  538000         3       2.25         2570      7242   \n",
       "2  5631500400   2/25/2015  180000         2       1.00          770     10000   \n",
       "3  2487200875   12/9/2014  604000         4       3.00         1960      5000   \n",
       "4  1954400510   2/18/2015  510000         3       2.00         1680      8080   \n",
       "\n",
       "   floors  waterfront  view     ...      grade  sqft_above  sqft_basement  \\\n",
       "0     1.0         NaN   0.0     ...          7        1180              0   \n",
       "1     2.0         0.0   0.0     ...          7        2170            400   \n",
       "2     1.0         0.0   0.0     ...          6         770              0   \n",
       "3     1.0         0.0   0.0     ...          7        1050            910   \n",
       "4     1.0         0.0   0.0     ...          8        1680              0   \n",
       "\n",
       "  yr_built  yr_renovated  zipcode      lat     long  sqft_living15  sqft_lot15  \n",
       "0     1955           0.0    98178  47.5112 -122.257           1340        5650  \n",
       "1     1951        1991.0    98125  47.7210 -122.319           1690        7639  \n",
       "2     1933           NaN    98028  47.7379 -122.233           2720        8062  \n",
       "3     1965           0.0    98136  47.5208 -122.393           1360        5000  \n",
       "4     1987           0.0    98074  47.6168 -122.045           1800        7503  \n",
       "\n",
       "[5 rows x 21 columns]"
      ]
     },
     "execution_count": 3,
     "metadata": {},
     "output_type": "execute_result"
    }
   ],
   "source": [
    "data.head()"
   ]
  },
  {
   "cell_type": "markdown",
   "metadata": {},
   "source": [
    "### Scrub and Clean Data"
   ]
  },
  {
   "cell_type": "markdown",
   "metadata": {},
   "source": [
    "#### Inspect Columns in the Dataframe"
   ]
  },
  {
   "cell_type": "code",
   "execution_count": 14,
   "metadata": {},
   "outputs": [],
   "source": [
    "price = data[\"price\"]\n",
    "bathrooms = data[\"bathrooms\"]\n",
    "sqft_living = data[\"sqft_living\"]\n",
    "sqft_lot = data[\"sqft_lot\"]\n",
    "floors = data[\"floors\"]\n",
    "lat = data[\"lat\"]\n",
    "condition = data[\"condition\"]\n",
    "grade = data[\"grade\"]\n",
    "sqft_above = data[\"sqft_above\"] #keyi\n",
    "bedrooms = data[\"bedrooms\"]"
   ]
  },
  {
   "cell_type": "markdown",
   "metadata": {},
   "source": [
    "### Examine Features vs Price"
   ]
  },
  {
   "cell_type": "code",
   "execution_count": 15,
   "metadata": {},
   "outputs": [
    {
     "data": {
      "image/png": "[encoded data removed]",
      "text/plain": [
       "<Figure size 720x432 with 1 Axes>"
      ]
     },
     "metadata": {},
     "output_type": "display_data"
    }
   ],
   "source": [
    "import matplotlib.pyplot as plt\n",
    "plt.figure(figsize=(10,6))\n",
    "plt.scatter(bathrooms, price, c='lightblue')\n",
    "plt.xlabel('Bathrooms')\n",
    "plt.ylabel('Price')\n",
    "plt.show()\n"
   ]
  },
  {
   "cell_type": "code",
   "execution_count": 16,
   "metadata": {},
   "outputs": [
    {
     "data": {
      "image/png": "[encoded data removed]",
      "text/plain": [
       "<Figure size 720x432 with 1 Axes>"
      ]
     },
     "metadata": {},
     "output_type": "display_data"
    }
   ],
   "source": [
    "plt.figure(figsize=(10,6))\n",
    "plt.scatter(sqft_living, price, c='lightblue')\n",
    "plt.xlabel('sqft_living')\n",
    "plt.ylabel('Price')\n",
    "plt.show()"
   ]
  },
  {
   "cell_type": "code",
   "execution_count": 17,
   "metadata": {},
   "outputs": [
    {
     "data": {
      "image/png": "[encoded data removed]",
      "text/plain": [
       "<Figure size 720x432 with 1 Axes>"
      ]
     },
     "metadata": {},
     "output_type": "display_data"
    }
   ],
   "source": [
    "plt.figure(figsize=(10,6))\n",
    "plt.scatter(sqft_lot, price, c='lightblue')\n",
    "plt.xlabel('sqft_lot')\n",
    "plt.ylabel('Price')\n",
    "plt.show()"
   ]
  },
  {
   "cell_type": "code",
   "execution_count": 18,
   "metadata": {},
   "outputs": [
    {
     "data": {
      "image/png": "[encoded data removed]",
      "text/plain": [
       "<Figure size 720x432 with 1 Axes>"
      ]
     },
     "metadata": {},
     "output_type": "display_data"
    }
   ],
   "source": [
    "plt.figure(figsize=(10,6))\n",
    "plt.scatter(floors, price, c='lightblue')\n",
    "plt.xlabel('floors')\n",
    "plt.ylabel('Price')\n",
    "plt.show()"
   ]
  },
  {
   "cell_type": "code",
   "execution_count": 19,
   "metadata": {},
   "outputs": [
    {
     "data": {
      "image/png": "[encoded data removed]",
      "text/plain": [
       "<Figure size 720x432 with 1 Axes>"
      ]
     },
     "metadata": {},
     "output_type": "display_data"
    }
   ],
   "source": [
    "plt.figure(figsize=(10,6))\n",
    "plt.scatter(lat, price, c='lightblue')\n",
    "plt.xlabel('lat')\n",
    "plt.ylabel('Price')\n",
    "plt.show()"
   ]
  },
  {
   "cell_type": "code",
   "execution_count": 20,
   "metadata": {},
   "outputs": [
    {
     "data": {
      "image/png": "[encoded data removed]",
      "text/plain": [
       "<Figure size 720x432 with 1 Axes>"
      ]
     },
     "metadata": {},
     "output_type": "display_data"
    }
   ],
   "source": [
    "plt.figure(figsize=(10,6))\n",
    "plt.scatter(condition, price, c='lightblue')\n",
    "plt.xlabel('condition')\n",
    "plt.ylabel('Price')\n",
    "plt.show()"
   ]
  },
  {
   "cell_type": "code",
   "execution_count": 21,
   "metadata": {},
   "outputs": [
    {
     "data": {
      "image/png": "[encoded data removed]",
      "text/plain": [
       "<Figure size 720x432 with 1 Axes>"
      ]
     },
     "metadata": {},
     "output_type": "display_data"
    }
   ],
   "source": [
    "plt.figure(figsize=(10,6))\n",
    "plt.scatter(grade, price, c='lightblue')\n",
    "plt.xlabel('grade')\n",
    "plt.ylabel('Price')\n",
    "plt.show()"
   ]
  },
  {
   "cell_type": "code",
   "execution_count": 22,
   "metadata": {},
   "outputs": [
    {
     "data": {
      "image/png": "[encoded data removed]",
      "text/plain": [
       "<Figure size 720x432 with 1 Axes>"
      ]
     },
     "metadata": {},
     "output_type": "display_data"
    }
   ],
   "source": [
    "plt.figure(figsize=(10,6))\n",
    "plt.scatter(sqft_above, price, c='lightblue')\n",
    "plt.xlabel('sqft_above')\n",
    "plt.ylabel('Price')\n",
    "plt.show()"
   ]
  },
  {
   "cell_type": "markdown",
   "metadata": {},
   "source": [
    "### Explore Data"
   ]
  },
  {
   "cell_type": "markdown",
   "metadata": {},
   "source": [
    "#### One-Hot Category Encoding"
   ]
  },
  {
   "cell_type": "code",
   "execution_count": 23,
   "metadata": {},
   "outputs": [],
   "source": [
    "from sklearn.preprocessing import OneHotEncoder\n",
    "import numpy as np\n",
    "bedrooms_hot = OneHotEncoder(sparse=False).fit_transform(np.array(bedrooms).reshape(-1,1))\n",
    "floors_hot = OneHotEncoder(sparse=False).fit_transform(np.array(floors).reshape(-1,1))\n",
    "condition_hot = OneHotEncoder(sparse=False).fit_transform(np.array(condition).reshape(-1,1))\n",
    "grade_hot = OneHotEncoder(sparse=False).fit_transform(np.array(grade).reshape(-1,1))"
   ]
  },
  {
   "cell_type": "code",
   "execution_count": 24,
   "metadata": {},
   "outputs": [],
   "source": [
    "price_hot = np.array(price).reshape(-1,1)\n",
    "sqft_living_hot = np.array(sqft_living).reshape(-1,1)\n",
    "sqft_lot = np.array(sqft_lot).reshape(-1,1)\n",
    "lat_hot = np.array(sqft_lot).reshape(-1,1)\n",
    "sqft_above = np.array(sqft_above).reshape(-1,1)\n",
    "data_final = np.concatenate((price_hot,bedrooms_hot,floors_hot,condition_hot,\n",
    "                            grade_hot,sqft_living_hot,sqft_lot,\n",
    "                            lat_hot,sqft_above),axis=1)"
   ]
  },
  {
   "cell_type": "code",
   "execution_count": 150,
   "metadata": {},
   "outputs": [
    {
     "data": {
      "text/plain": [
       "(21597, 12)"
      ]
     },
     "execution_count": 150,
     "metadata": {},
     "output_type": "execute_result"
    }
   ],
   "source": [
    "bedrooms_hot.shape"
   ]
  },
  {
   "cell_type": "code",
   "execution_count": 25,
   "metadata": {},
   "outputs": [],
   "source": [
    "data_final = pd.DataFrame(data_final, columns=[\"price\",\"bedrooms_1\",\n",
    "                                              \"bedrooms_2\",\"bedrooms_3\",\n",
    "                                              \"bedrooms_4\",\"bedrooms_5\",\n",
    "                                              \"bedrooms_6\",\"bedrooms_7\",\n",
    "                                              \"bedrooms_8\",\"bedrooms_9\",\n",
    "                                              \"bedrooms_10\",\"bedrooms_11\",\n",
    "                                              \"bedrooms_12\",\"floors_1\",\n",
    "                                              \"floors_2\",\"floors_3\",\n",
    "                                              \"condition_1\",\"condition_2\",\n",
    "                                              \"condition_3\",\"condition_4\",\n",
    "                                              \"condition_5\",\"grade_1\",\n",
    "                                              \"grade_2\",\"grade_3\",\n",
    "                                              \"grade_4\",\"grade_5\",\n",
    "                                              \"grade_6\",\"grade_7\",\n",
    "                                              \"grade_8\",\"grade_9\",\n",
    "                                              \"grade_10\",\"grade_11\",\"sqft_living\",\n",
    "                                              \"sqft\",\"lat\",\"sqft_above\"])"
   ]
  },
  {
   "cell_type": "markdown",
   "metadata": {},
   "source": [
    "#### Remove null values"
   ]
  },
  {
   "cell_type": "code",
   "execution_count": 157,
   "metadata": {},
   "outputs": [],
   "source": [
    "data_fina = data_final.dropna(axis=0, how='any')\n",
    "data_fina = data_fina[data_fina['price'].isin(['?'])] "
   ]
  },
  {
   "cell_type": "code",
   "execution_count": 158,
   "metadata": {
    "scrolled": true
   },
   "outputs": [
    {
     "data": {
      "text/html": [
       "<div>\n",
       "<style scoped>\n",
       "    .dataframe tbody tr th:only-of-type {\n",
       "        vertical-align: middle;\n",
       "    }\n",
       "\n",
       "    .dataframe tbody tr th {\n",
       "        vertical-align: top;\n",
       "    }\n",
       "\n",
       "    .dataframe thead th {\n",
       "        text-align: right;\n",
       "    }\n",
       "</style>\n",
       "<table border=\"1\" class=\"dataframe\">\n",
       "  <thead>\n",
       "    <tr style=\"text-align: right;\">\n",
       "      <th></th>\n",
       "      <th>price</th>\n",
       "      <th>bedrooms_1</th>\n",
       "      <th>bedrooms_2</th>\n",
       "      <th>bedrooms_3</th>\n",
       "      <th>bedrooms_4</th>\n",
       "      <th>bedrooms_5</th>\n",
       "      <th>bedrooms_6</th>\n",
       "      <th>bedrooms_7</th>\n",
       "      <th>bedrooms_8</th>\n",
       "      <th>bedrooms_9</th>\n",
       "      <th>...</th>\n",
       "      <th>grade_6</th>\n",
       "      <th>grade_7</th>\n",
       "      <th>grade_8</th>\n",
       "      <th>grade_9</th>\n",
       "      <th>grade_10</th>\n",
       "      <th>grade_11</th>\n",
       "      <th>sqft_living</th>\n",
       "      <th>sqft</th>\n",
       "      <th>lat</th>\n",
       "      <th>sqft_above</th>\n",
       "    </tr>\n",
       "  </thead>\n",
       "  <tbody>\n",
       "    <tr>\n",
       "      <th>0</th>\n",
       "      <td>221900.0</td>\n",
       "      <td>0.0</td>\n",
       "      <td>0.0</td>\n",
       "      <td>1.0</td>\n",
       "      <td>0.0</td>\n",
       "      <td>0.0</td>\n",
       "      <td>0.0</td>\n",
       "      <td>0.0</td>\n",
       "      <td>0.0</td>\n",
       "      <td>0.0</td>\n",
       "      <td>...</td>\n",
       "      <td>0.0</td>\n",
       "      <td>0.0</td>\n",
       "      <td>0.0</td>\n",
       "      <td>0.0</td>\n",
       "      <td>0.0</td>\n",
       "      <td>0.0</td>\n",
       "      <td>1180.0</td>\n",
       "      <td>5650.0</td>\n",
       "      <td>5650.0</td>\n",
       "      <td>1180.0</td>\n",
       "    </tr>\n",
       "    <tr>\n",
       "      <th>1</th>\n",
       "      <td>538000.0</td>\n",
       "      <td>0.0</td>\n",
       "      <td>0.0</td>\n",
       "      <td>1.0</td>\n",
       "      <td>0.0</td>\n",
       "      <td>0.0</td>\n",
       "      <td>0.0</td>\n",
       "      <td>0.0</td>\n",
       "      <td>0.0</td>\n",
       "      <td>0.0</td>\n",
       "      <td>...</td>\n",
       "      <td>0.0</td>\n",
       "      <td>0.0</td>\n",
       "      <td>0.0</td>\n",
       "      <td>0.0</td>\n",
       "      <td>0.0</td>\n",
       "      <td>0.0</td>\n",
       "      <td>2570.0</td>\n",
       "      <td>7242.0</td>\n",
       "      <td>7242.0</td>\n",
       "      <td>2170.0</td>\n",
       "    </tr>\n",
       "    <tr>\n",
       "      <th>2</th>\n",
       "      <td>180000.0</td>\n",
       "      <td>0.0</td>\n",
       "      <td>1.0</td>\n",
       "      <td>0.0</td>\n",
       "      <td>0.0</td>\n",
       "      <td>0.0</td>\n",
       "      <td>0.0</td>\n",
       "      <td>0.0</td>\n",
       "      <td>0.0</td>\n",
       "      <td>0.0</td>\n",
       "      <td>...</td>\n",
       "      <td>0.0</td>\n",
       "      <td>0.0</td>\n",
       "      <td>0.0</td>\n",
       "      <td>0.0</td>\n",
       "      <td>0.0</td>\n",
       "      <td>0.0</td>\n",
       "      <td>770.0</td>\n",
       "      <td>10000.0</td>\n",
       "      <td>10000.0</td>\n",
       "      <td>770.0</td>\n",
       "    </tr>\n",
       "    <tr>\n",
       "      <th>3</th>\n",
       "      <td>604000.0</td>\n",
       "      <td>0.0</td>\n",
       "      <td>0.0</td>\n",
       "      <td>0.0</td>\n",
       "      <td>1.0</td>\n",
       "      <td>0.0</td>\n",
       "      <td>0.0</td>\n",
       "      <td>0.0</td>\n",
       "      <td>0.0</td>\n",
       "      <td>0.0</td>\n",
       "      <td>...</td>\n",
       "      <td>0.0</td>\n",
       "      <td>0.0</td>\n",
       "      <td>0.0</td>\n",
       "      <td>0.0</td>\n",
       "      <td>0.0</td>\n",
       "      <td>0.0</td>\n",
       "      <td>1960.0</td>\n",
       "      <td>5000.0</td>\n",
       "      <td>5000.0</td>\n",
       "      <td>1050.0</td>\n",
       "    </tr>\n",
       "    <tr>\n",
       "      <th>4</th>\n",
       "      <td>510000.0</td>\n",
       "      <td>0.0</td>\n",
       "      <td>0.0</td>\n",
       "      <td>1.0</td>\n",
       "      <td>0.0</td>\n",
       "      <td>0.0</td>\n",
       "      <td>0.0</td>\n",
       "      <td>0.0</td>\n",
       "      <td>0.0</td>\n",
       "      <td>0.0</td>\n",
       "      <td>...</td>\n",
       "      <td>1.0</td>\n",
       "      <td>0.0</td>\n",
       "      <td>0.0</td>\n",
       "      <td>0.0</td>\n",
       "      <td>0.0</td>\n",
       "      <td>0.0</td>\n",
       "      <td>1680.0</td>\n",
       "      <td>8080.0</td>\n",
       "      <td>8080.0</td>\n",
       "      <td>1680.0</td>\n",
       "    </tr>\n",
       "  </tbody>\n",
       "</table>\n",
       "<p>5 rows × 36 columns</p>\n",
       "</div>"
      ],
      "text/plain": [
       "      price  bedrooms_1  bedrooms_2  bedrooms_3  bedrooms_4  bedrooms_5  \\\n",
       "0  221900.0         0.0         0.0         1.0         0.0         0.0   \n",
       "1  538000.0         0.0         0.0         1.0         0.0         0.0   \n",
       "2  180000.0         0.0         1.0         0.0         0.0         0.0   \n",
       "3  604000.0         0.0         0.0         0.0         1.0         0.0   \n",
       "4  510000.0         0.0         0.0         1.0         0.0         0.0   \n",
       "\n",
       "   bedrooms_6  bedrooms_7  bedrooms_8  bedrooms_9     ...      grade_6  \\\n",
       "0         0.0         0.0         0.0         0.0     ...          0.0   \n",
       "1         0.0         0.0         0.0         0.0     ...          0.0   \n",
       "2         0.0         0.0         0.0         0.0     ...          0.0   \n",
       "3         0.0         0.0         0.0         0.0     ...          0.0   \n",
       "4         0.0         0.0         0.0         0.0     ...          1.0   \n",
       "\n",
       "   grade_7  grade_8  grade_9  grade_10  grade_11  sqft_living     sqft  \\\n",
       "0      0.0      0.0      0.0       0.0       0.0       1180.0   5650.0   \n",
       "1      0.0      0.0      0.0       0.0       0.0       2570.0   7242.0   \n",
       "2      0.0      0.0      0.0       0.0       0.0        770.0  10000.0   \n",
       "3      0.0      0.0      0.0       0.0       0.0       1960.0   5000.0   \n",
       "4      0.0      0.0      0.0       0.0       0.0       1680.0   8080.0   \n",
       "\n",
       "       lat  sqft_above  \n",
       "0   5650.0      1180.0  \n",
       "1   7242.0      2170.0  \n",
       "2  10000.0       770.0  \n",
       "3   5000.0      1050.0  \n",
       "4   8080.0      1680.0  \n",
       "\n",
       "[5 rows x 36 columns]"
      ]
     },
     "execution_count": 158,
     "metadata": {},
     "output_type": "execute_result"
    }
   ],
   "source": [
    "data_final.head()"
   ]
  },
  {
   "cell_type": "markdown",
   "metadata": {},
   "source": [
    "#### Perform Train-Test-Split"
   ]
  },
  {
   "cell_type": "code",
   "execution_count": 27,
   "metadata": {},
   "outputs": [
    {
     "name": "stdout",
     "output_type": "stream",
     "text": [
      "(17277, 36) (4320, 36)\n"
     ]
    }
   ],
   "source": [
    "from sklearn.model_selection import train_test_split\n",
    "# Create train-test dataset for model validation later\n",
    "train, test = train_test_split(data_final, test_size=0.2, random_state=36)\n",
    "\n",
    "# Check datasets\n",
    "print(train.shape, test.shape)"
   ]
  },
  {
   "cell_type": "markdown",
   "metadata": {},
   "source": [
    "### Model Data"
   ]
  },
  {
   "cell_type": "code",
   "execution_count": 28,
   "metadata": {},
   "outputs": [],
   "source": [
    "def guiyi(data):\n",
    "    max_data = np.max(data)\n",
    "    return data / max_data\n",
    "#归一化"
   ]
  },
  {
   "cell_type": "code",
   "execution_count": 29,
   "metadata": {},
   "outputs": [
    {
     "data": {
      "text/plain": [
       "LinearRegression(copy_X=True, fit_intercept=True, n_jobs=1, normalize=False)"
      ]
     },
     "execution_count": 29,
     "metadata": {},
     "output_type": "execute_result"
    }
   ],
   "source": [
    "from sklearn.linear_model import LinearRegression\n",
    "X_train = train.iloc[:,1:]\n",
    "y_train = train[\"price\"]\n",
    "y_train = guiyi(y_train)\n",
    "X_test = test.iloc[:,1:]\n",
    "y_test = test[\"price\"]\n",
    "y_test = guiyi(y_test)\n",
    "reg = LinearRegression()\n",
    "reg.fit(X_train, y_train)\n",
    "\n",
    "#y = a1x1+ a2x2 + a3x3+ + ... +a36x36  "
   ]
  },
  {
   "cell_type": "code",
   "execution_count": 153,
   "metadata": {},
   "outputs": [],
   "source": [
    "y_pred = reg.predict(X_test)"
   ]
  },
  {
   "cell_type": "markdown",
   "metadata": {},
   "source": [
    "#### Comparing  R^2  Between Train and Test Sets"
   ]
  },
  {
   "cell_type": "code",
   "execution_count": 34,
   "metadata": {},
   "outputs": [
    {
     "name": "stdout",
     "output_type": "stream",
     "text": [
      "train r2 = 0.61\n",
      "test r2 = 0.581\n"
     ]
    }
   ],
   "source": [
    "from sklearn.metrics import r2_score\n",
    "\n",
    "yy_test = []\n",
    "for i in range(len(y_pred)):\n",
    "    if y_pred[i] != max(y_pred):\n",
    "        yy_test.append(np.array(y_test)[i])\n",
    "yy_test = np.array(yy_test)\n",
    "\n",
    "        \n",
    "train_r2 = r2_score(y_train, reg.predict(X_train))\n",
    "print(f'train r2 = {round(train_r2,3)}')\n",
    "\n",
    "test_r2 = r2_score(yy_test, yy_pred)\n",
    "print(f'test r2 = {round(test_r2,3)}')\n"
   ]
  },
  {
   "cell_type": "markdown",
   "metadata": {},
   "source": [
    "There is a difference of 1.9330% between the train and test  R^2 .\n",
    "The model does not appear to be over or under fitted."
   ]
  },
  {
   "cell_type": "markdown",
   "metadata": {},
   "source": [
    "#### Remove P-Value > 0.05"
   ]
  },
  {
   "cell_type": "code",
   "execution_count": 138,
   "metadata": {},
   "outputs": [],
   "source": [
    "fea_excl = ['price', 'sqft_living', 'sqft',\n",
    "            'lat', 'sqft_above']          \n",
    "\n",
    "# Clean up columns names\n",
    "train.columns = [col.replace('.', '_') for col in train.columns]\n",
    "train.columns = [col.replace(' ', '_') for col in train.columns]\n",
    "\n",
    "# Define the problem\n",
    "outcome = 'price'\n",
    "\n",
    "# Create the feature list\n",
    "x_cols = list(train.columns)\n",
    "\n",
    "# Remove unwated features\n",
    "for col in fea_excl:\n",
    "    x_cols.remove(col)\n"
   ]
  },
  {
   "cell_type": "code",
   "execution_count": 140,
   "metadata": {
    "scrolled": true
   },
   "outputs": [
    {
     "data": {
      "text/html": [
       "<table class=\"simpletable\">\n",
       "<caption>OLS Regression Results</caption>\n",
       "<tr>\n",
       "  <th>Dep. Variable:</th>          <td>price</td>      <th>  R-squared:         </th>  <td>   0.555</td>  \n",
       "</tr>\n",
       "<tr>\n",
       "  <th>Model:</th>                   <td>OLS</td>       <th>  Adj. R-squared:    </th>  <td>   0.554</td>  \n",
       "</tr>\n",
       "<tr>\n",
       "  <th>Method:</th>             <td>Least Squares</td>  <th>  F-statistic:       </th>  <td>   797.0</td>  \n",
       "</tr>\n",
       "<tr>\n",
       "  <th>Date:</th>             <td>Sun, 30 Aug 2020</td> <th>  Prob (F-statistic):</th>   <td>  0.00</td>   \n",
       "</tr>\n",
       "<tr>\n",
       "  <th>Time:</th>                 <td>10:13:21</td>     <th>  Log-Likelihood:    </th> <td>-2.3872e+05</td>\n",
       "</tr>\n",
       "<tr>\n",
       "  <th>No. Observations:</th>      <td> 17277</td>      <th>  AIC:               </th>  <td>4.775e+05</td> \n",
       "</tr>\n",
       "<tr>\n",
       "  <th>Df Residuals:</th>          <td> 17249</td>      <th>  BIC:               </th>  <td>4.777e+05</td> \n",
       "</tr>\n",
       "<tr>\n",
       "  <th>Df Model:</th>              <td>    27</td>      <th>                     </th>      <td> </td>     \n",
       "</tr>\n",
       "<tr>\n",
       "  <th>Covariance Type:</th>      <td>nonrobust</td>    <th>                     </th>      <td> </td>     \n",
       "</tr>\n",
       "</table>\n",
       "<table class=\"simpletable\">\n",
       "<tr>\n",
       "       <td></td>          <th>coef</th>     <th>std err</th>      <th>t</th>      <th>P>|t|</th>  <th>[0.025</th>    <th>0.975]</th>  \n",
       "</tr>\n",
       "<tr>\n",
       "  <th>Intercept</th>   <td>-5.479e+16</td> <td> 7.37e+16</td> <td>   -0.744</td> <td> 0.457</td> <td>-1.99e+17</td> <td> 8.96e+16</td>\n",
       "</tr>\n",
       "<tr>\n",
       "  <th>bedrooms_1</th>  <td> 1.705e+17</td> <td> 2.29e+17</td> <td>    0.744</td> <td> 0.457</td> <td>-2.79e+17</td> <td>  6.2e+17</td>\n",
       "</tr>\n",
       "<tr>\n",
       "  <th>bedrooms_2</th>  <td> 1.705e+17</td> <td> 2.29e+17</td> <td>    0.744</td> <td> 0.457</td> <td>-2.79e+17</td> <td>  6.2e+17</td>\n",
       "</tr>\n",
       "<tr>\n",
       "  <th>bedrooms_3</th>  <td> 1.705e+17</td> <td> 2.29e+17</td> <td>    0.744</td> <td> 0.457</td> <td>-2.79e+17</td> <td>  6.2e+17</td>\n",
       "</tr>\n",
       "<tr>\n",
       "  <th>bedrooms_4</th>  <td> 1.705e+17</td> <td> 2.29e+17</td> <td>    0.744</td> <td> 0.457</td> <td>-2.79e+17</td> <td>  6.2e+17</td>\n",
       "</tr>\n",
       "<tr>\n",
       "  <th>bedrooms_5</th>  <td> 1.705e+17</td> <td> 2.29e+17</td> <td>    0.744</td> <td> 0.457</td> <td>-2.79e+17</td> <td>  6.2e+17</td>\n",
       "</tr>\n",
       "<tr>\n",
       "  <th>bedrooms_6</th>  <td> 1.705e+17</td> <td> 2.29e+17</td> <td>    0.744</td> <td> 0.457</td> <td>-2.79e+17</td> <td>  6.2e+17</td>\n",
       "</tr>\n",
       "<tr>\n",
       "  <th>bedrooms_7</th>  <td> 1.705e+17</td> <td> 2.29e+17</td> <td>    0.744</td> <td> 0.457</td> <td>-2.79e+17</td> <td>  6.2e+17</td>\n",
       "</tr>\n",
       "<tr>\n",
       "  <th>bedrooms_8</th>  <td> 1.705e+17</td> <td> 2.29e+17</td> <td>    0.744</td> <td> 0.457</td> <td>-2.79e+17</td> <td>  6.2e+17</td>\n",
       "</tr>\n",
       "<tr>\n",
       "  <th>bedrooms_9</th>  <td> 1.705e+17</td> <td> 2.29e+17</td> <td>    0.744</td> <td> 0.457</td> <td>-2.79e+17</td> <td>  6.2e+17</td>\n",
       "</tr>\n",
       "<tr>\n",
       "  <th>bedrooms_10</th> <td> 1.705e+17</td> <td> 2.29e+17</td> <td>    0.744</td> <td> 0.457</td> <td>-2.79e+17</td> <td>  6.2e+17</td>\n",
       "</tr>\n",
       "<tr>\n",
       "  <th>bedrooms_11</th> <td> 1.705e+17</td> <td> 2.29e+17</td> <td>    0.744</td> <td> 0.457</td> <td>-2.79e+17</td> <td>  6.2e+17</td>\n",
       "</tr>\n",
       "<tr>\n",
       "  <th>bedrooms_12</th> <td> 1.705e+17</td> <td> 2.29e+17</td> <td>    0.744</td> <td> 0.457</td> <td>-2.79e+17</td> <td>  6.2e+17</td>\n",
       "</tr>\n",
       "<tr>\n",
       "  <th>floors_1</th>    <td>-6.989e+15</td> <td> 9.39e+15</td> <td>   -0.744</td> <td> 0.457</td> <td>-2.54e+16</td> <td> 1.14e+16</td>\n",
       "</tr>\n",
       "<tr>\n",
       "  <th>floors_2</th>    <td>-6.989e+15</td> <td> 9.39e+15</td> <td>   -0.744</td> <td> 0.457</td> <td>-2.54e+16</td> <td> 1.14e+16</td>\n",
       "</tr>\n",
       "<tr>\n",
       "  <th>floors_3</th>    <td>-6.989e+15</td> <td> 9.39e+15</td> <td>   -0.744</td> <td> 0.457</td> <td>-2.54e+16</td> <td> 1.14e+16</td>\n",
       "</tr>\n",
       "<tr>\n",
       "  <th>condition_1</th> <td> -4.45e+16</td> <td> 5.98e+16</td> <td>   -0.744</td> <td> 0.457</td> <td>-1.62e+17</td> <td> 7.27e+16</td>\n",
       "</tr>\n",
       "<tr>\n",
       "  <th>condition_2</th> <td> -4.45e+16</td> <td> 5.98e+16</td> <td>   -0.744</td> <td> 0.457</td> <td>-1.62e+17</td> <td> 7.27e+16</td>\n",
       "</tr>\n",
       "<tr>\n",
       "  <th>condition_3</th> <td> -4.45e+16</td> <td> 5.98e+16</td> <td>   -0.744</td> <td> 0.457</td> <td>-1.62e+17</td> <td> 7.27e+16</td>\n",
       "</tr>\n",
       "<tr>\n",
       "  <th>condition_4</th> <td> -4.45e+16</td> <td> 5.98e+16</td> <td>   -0.744</td> <td> 0.457</td> <td>-1.62e+17</td> <td> 7.27e+16</td>\n",
       "</tr>\n",
       "<tr>\n",
       "  <th>condition_5</th> <td> -4.45e+16</td> <td> 5.98e+16</td> <td>   -0.744</td> <td> 0.457</td> <td>-1.62e+17</td> <td> 7.27e+16</td>\n",
       "</tr>\n",
       "<tr>\n",
       "  <th>grade_1</th>     <td>-6.427e+16</td> <td> 8.64e+16</td> <td>   -0.744</td> <td> 0.457</td> <td>-2.34e+17</td> <td> 1.05e+17</td>\n",
       "</tr>\n",
       "<tr>\n",
       "  <th>grade_2</th>     <td>-6.427e+16</td> <td> 8.64e+16</td> <td>   -0.744</td> <td> 0.457</td> <td>-2.34e+17</td> <td> 1.05e+17</td>\n",
       "</tr>\n",
       "<tr>\n",
       "  <th>grade_3</th>     <td>-6.427e+16</td> <td> 8.64e+16</td> <td>   -0.744</td> <td> 0.457</td> <td>-2.34e+17</td> <td> 1.05e+17</td>\n",
       "</tr>\n",
       "<tr>\n",
       "  <th>grade_4</th>     <td>-6.427e+16</td> <td> 8.64e+16</td> <td>   -0.744</td> <td> 0.457</td> <td>-2.34e+17</td> <td> 1.05e+17</td>\n",
       "</tr>\n",
       "<tr>\n",
       "  <th>grade_5</th>     <td>-6.427e+16</td> <td> 8.64e+16</td> <td>   -0.744</td> <td> 0.457</td> <td>-2.34e+17</td> <td> 1.05e+17</td>\n",
       "</tr>\n",
       "<tr>\n",
       "  <th>grade_6</th>     <td>-6.427e+16</td> <td> 8.64e+16</td> <td>   -0.744</td> <td> 0.457</td> <td>-2.34e+17</td> <td> 1.05e+17</td>\n",
       "</tr>\n",
       "<tr>\n",
       "  <th>grade_7</th>     <td>-6.427e+16</td> <td> 8.64e+16</td> <td>   -0.744</td> <td> 0.457</td> <td>-2.34e+17</td> <td> 1.05e+17</td>\n",
       "</tr>\n",
       "<tr>\n",
       "  <th>grade_8</th>     <td>-6.427e+16</td> <td> 8.64e+16</td> <td>   -0.744</td> <td> 0.457</td> <td>-2.34e+17</td> <td> 1.05e+17</td>\n",
       "</tr>\n",
       "<tr>\n",
       "  <th>grade_9</th>     <td>-6.427e+16</td> <td> 8.64e+16</td> <td>   -0.744</td> <td> 0.457</td> <td>-2.34e+17</td> <td> 1.05e+17</td>\n",
       "</tr>\n",
       "<tr>\n",
       "  <th>grade_10</th>    <td>-6.427e+16</td> <td> 8.64e+16</td> <td>   -0.744</td> <td> 0.457</td> <td>-2.34e+17</td> <td> 1.05e+17</td>\n",
       "</tr>\n",
       "<tr>\n",
       "  <th>grade_11</th>    <td>-6.427e+16</td> <td> 8.64e+16</td> <td>   -0.744</td> <td> 0.457</td> <td>-2.34e+17</td> <td> 1.05e+17</td>\n",
       "</tr>\n",
       "</table>\n",
       "<table class=\"simpletable\">\n",
       "<tr>\n",
       "  <th>Omnibus:</th>       <td>10874.892</td> <th>  Durbin-Watson:     </th>  <td>   2.005</td> \n",
       "</tr>\n",
       "<tr>\n",
       "  <th>Prob(Omnibus):</th>  <td> 0.000</td>   <th>  Jarque-Bera (JB):  </th> <td>292326.403</td>\n",
       "</tr>\n",
       "<tr>\n",
       "  <th>Skew:</th>           <td> 2.582</td>   <th>  Prob(JB):          </th>  <td>    0.00</td> \n",
       "</tr>\n",
       "<tr>\n",
       "  <th>Kurtosis:</th>       <td>22.479</td>   <th>  Cond. No.          </th>  <td>4.22e+15</td> \n",
       "</tr>\n",
       "</table><br/><br/>Warnings:<br/>[1] Standard Errors assume that the covariance matrix of the errors is correctly specified.<br/>[2] The smallest eigenvalue is 2.56e-27. This might indicate that there are<br/>strong multicollinearity problems or that the design matrix is singular."
      ],
      "text/plain": [
       "<class 'statsmodels.iolib.summary.Summary'>\n",
       "\"\"\"\n",
       "                            OLS Regression Results                            \n",
       "==============================================================================\n",
       "Dep. Variable:                  price   R-squared:                       0.555\n",
       "Model:                            OLS   Adj. R-squared:                  0.554\n",
       "Method:                 Least Squares   F-statistic:                     797.0\n",
       "Date:                Sun, 30 Aug 2020   Prob (F-statistic):               0.00\n",
       "Time:                        10:13:21   Log-Likelihood:            -2.3872e+05\n",
       "No. Observations:               17277   AIC:                         4.775e+05\n",
       "Df Residuals:                   17249   BIC:                         4.777e+05\n",
       "Df Model:                          27                                         \n",
       "Covariance Type:            nonrobust                                         \n",
       "===============================================================================\n",
       "                  coef    std err          t      P>|t|      [0.025      0.975]\n",
       "-------------------------------------------------------------------------------\n",
       "Intercept   -5.479e+16   7.37e+16     -0.744      0.457   -1.99e+17    8.96e+16\n",
       "bedrooms_1   1.705e+17   2.29e+17      0.744      0.457   -2.79e+17     6.2e+17\n",
       "bedrooms_2   1.705e+17   2.29e+17      0.744      0.457   -2.79e+17     6.2e+17\n",
       "bedrooms_3   1.705e+17   2.29e+17      0.744      0.457   -2.79e+17     6.2e+17\n",
       "bedrooms_4   1.705e+17   2.29e+17      0.744      0.457   -2.79e+17     6.2e+17\n",
       "bedrooms_5   1.705e+17   2.29e+17      0.744      0.457   -2.79e+17     6.2e+17\n",
       "bedrooms_6   1.705e+17   2.29e+17      0.744      0.457   -2.79e+17     6.2e+17\n",
       "bedrooms_7   1.705e+17   2.29e+17      0.744      0.457   -2.79e+17     6.2e+17\n",
       "bedrooms_8   1.705e+17   2.29e+17      0.744      0.457   -2.79e+17     6.2e+17\n",
       "bedrooms_9   1.705e+17   2.29e+17      0.744      0.457   -2.79e+17     6.2e+17\n",
       "bedrooms_10  1.705e+17   2.29e+17      0.744      0.457   -2.79e+17     6.2e+17\n",
       "bedrooms_11  1.705e+17   2.29e+17      0.744      0.457   -2.79e+17     6.2e+17\n",
       "bedrooms_12  1.705e+17   2.29e+17      0.744      0.457   -2.79e+17     6.2e+17\n",
       "floors_1    -6.989e+15   9.39e+15     -0.744      0.457   -2.54e+16    1.14e+16\n",
       "floors_2    -6.989e+15   9.39e+15     -0.744      0.457   -2.54e+16    1.14e+16\n",
       "floors_3    -6.989e+15   9.39e+15     -0.744      0.457   -2.54e+16    1.14e+16\n",
       "condition_1  -4.45e+16   5.98e+16     -0.744      0.457   -1.62e+17    7.27e+16\n",
       "condition_2  -4.45e+16   5.98e+16     -0.744      0.457   -1.62e+17    7.27e+16\n",
       "condition_3  -4.45e+16   5.98e+16     -0.744      0.457   -1.62e+17    7.27e+16\n",
       "condition_4  -4.45e+16   5.98e+16     -0.744      0.457   -1.62e+17    7.27e+16\n",
       "condition_5  -4.45e+16   5.98e+16     -0.744      0.457   -1.62e+17    7.27e+16\n",
       "grade_1     -6.427e+16   8.64e+16     -0.744      0.457   -2.34e+17    1.05e+17\n",
       "grade_2     -6.427e+16   8.64e+16     -0.744      0.457   -2.34e+17    1.05e+17\n",
       "grade_3     -6.427e+16   8.64e+16     -0.744      0.457   -2.34e+17    1.05e+17\n",
       "grade_4     -6.427e+16   8.64e+16     -0.744      0.457   -2.34e+17    1.05e+17\n",
       "grade_5     -6.427e+16   8.64e+16     -0.744      0.457   -2.34e+17    1.05e+17\n",
       "grade_6     -6.427e+16   8.64e+16     -0.744      0.457   -2.34e+17    1.05e+17\n",
       "grade_7     -6.427e+16   8.64e+16     -0.744      0.457   -2.34e+17    1.05e+17\n",
       "grade_8     -6.427e+16   8.64e+16     -0.744      0.457   -2.34e+17    1.05e+17\n",
       "grade_9     -6.427e+16   8.64e+16     -0.744      0.457   -2.34e+17    1.05e+17\n",
       "grade_10    -6.427e+16   8.64e+16     -0.744      0.457   -2.34e+17    1.05e+17\n",
       "grade_11    -6.427e+16   8.64e+16     -0.744      0.457   -2.34e+17    1.05e+17\n",
       "==============================================================================\n",
       "Omnibus:                    10874.892   Durbin-Watson:                   2.005\n",
       "Prob(Omnibus):                  0.000   Jarque-Bera (JB):           292326.403\n",
       "Skew:                           2.582   Prob(JB):                         0.00\n",
       "Kurtosis:                      22.479   Cond. No.                     4.22e+15\n",
       "==============================================================================\n",
       "\n",
       "Warnings:\n",
       "[1] Standard Errors assume that the covariance matrix of the errors is correctly specified.\n",
       "[2] The smallest eigenvalue is 2.56e-27. This might indicate that there are\n",
       "strong multicollinearity problems or that the design matrix is singular.\n",
       "\"\"\""
      ]
     },
     "execution_count": 140,
     "metadata": {},
     "output_type": "execute_result"
    }
   ],
   "source": [
    "from statsmodels.formula.api import ols\n",
    "# Model fitting\n",
    "predictors = '+'.join(x_cols)\n",
    "formula = outcome + '~' + predictors\n",
    "model = ols(formula=formula, data=train).fit()\n",
    "model.summary()"
   ]
  },
  {
   "cell_type": "code",
   "execution_count": 143,
   "metadata": {},
   "outputs": [
    {
     "name": "stdout",
     "output_type": "stream",
     "text": [
      "No. of col before: 32. after: 0\n"
     ]
    }
   ],
   "source": [
    "import myFunc as myf\n",
    "# Refit model with subset features by removing features with p-values that are greater than 0.05\n",
    "bef_cols, aft_cols, x_cols = myf.refine_xcols(model.summary())\n",
    "print(f'No. of col before: {bef_cols}. after: {aft_cols}')"
   ]
  },
  {
   "cell_type": "markdown",
   "metadata": {},
   "source": [
    "#### Sqft_living Coefficient"
   ]
  },
  {
   "cell_type": "code",
   "execution_count": 154,
   "metadata": {},
   "outputs": [
    {
     "data": {
      "image/png": "[encoded data removed]",
      "text/plain": [
       "<Figure size 720x432 with 1 Axes>"
      ]
     },
     "metadata": {},
     "output_type": "display_data"
    }
   ],
   "source": [
    "# yy_pred = []\n",
    "# xx = test[\"sqft_living\"]\n",
    "# xx_sqft_living = []\n",
    "# for i in range(len(y_pred)):\n",
    "#     if y_pred[i] != max(y_pred):\n",
    "#         yy_pred.append(y_pred[i])\n",
    "#         xx_sqft_living.append(np.array(xx)[i])\n",
    "\n",
    "yy_pred = np.array(yy_pred)\n",
    "\n",
    "max_price = np.max(y_test)\n",
    "plt.figure(figsize=(10,6))\n",
    "plt.scatter(xx, y_test*max_price,c='orange')\n",
    "plt.scatter(xx_sqft_living, yy_pred*max_price, c='g', label='pred')\n",
    "plt.xlabel('sqft_living')\n",
    "plt.ylabel('Price')\n",
    "plt.legend()\n",
    "plt.show()"
   ]
  },
  {
   "cell_type": "markdown",
   "metadata": {},
   "source": [
    "Sqft_ The coefficient of living is 0.00027. Convert it back to decimal[（ np.exp . company (0.0003) - 1) * 100], about 0.027%. As a result, the housing price will rise by 0.027% for each additional unit of living area. We can say that for every 100 units of residential area, house prices will rise by 2.7%"
   ]
  },
  {
   "cell_type": "markdown",
   "metadata": {},
   "source": [
    "The figure above shows the predictive power of the model. Orange represents the predicted value and green represents the true value. You can see that the orange dots cover most of the green dots."
   ]
  },
  {
   "cell_type": "markdown",
   "metadata": {},
   "source": [
    "Suggestions:\n",
    "As long as the cost of increasing the living area is lower than the potential benefit of the house value after increasing the living space, the seller should consider the idea of redecorating the house."
   ]
  },
  {
   "cell_type": "markdown",
   "metadata": {},
   "source": [
    "#### Grade Coeficient"
   ]
  },
  {
   "cell_type": "code",
   "execution_count": 35,
   "metadata": {},
   "outputs": [
    {
     "data": {
      "image/png": "[encoded data removed]",
      "text/plain": [
       "<Figure size 720x432 with 1 Axes>"
      ]
     },
     "metadata": {},
     "output_type": "display_data"
    }
   ],
   "source": [
    "grede_1 = []\n",
    "grade_11 = X_test[\"grade_1\"]\n",
    "for i in range(len(y_pred)):\n",
    "    if y_pred[i] != max(y_pred):\n",
    "        grede_1.append(np.array(grade_11)[i])\n",
    "\n",
    "x = [\"grede_1\",\"grede_13\"]\n",
    "y = [12.5,14.5]\n",
    "plt.figure(figsize=(10,6))\n",
    "plt.bar(x, y, alpha=0.5)\n",
    "plt.ylabel('Natural Log of Price')\n",
    "plt.title('Grade by Price Comparison')\n",
    "plt.grid()\n",
    "plt.show()"
   ]
  },
  {
   "cell_type": "markdown",
   "metadata": {},
   "source": [
    "There are 11 grades in the dataset. Grade 13 being the highest or best grade."
   ]
  },
  {
   "cell_type": "markdown",
   "metadata": {},
   "source": [
    "The model reports back a coefficient of 0.6254 for grade_13. After transforming, it is roughly 86.89%. Meaning that houses rated at grade 13, generally cost 89.89% more than houses graded 1. Houses with higher grade mean better building quality which cost more to build."
   ]
  },
  {
   "cell_type": "markdown",
   "metadata": {},
   "source": [
    "The plot above show the difference in home prices between a grade_1 house and a grade_13 house."
   ]
  },
  {
   "cell_type": "markdown",
   "metadata": {},
   "source": [
    "Recommendations:\n",
    "Instead of putting the money into home renovation to boost house values, once can choose the alternate route by allocating funds in maintaining the home, such as replacing drafty windows, caulking the tiles, or a new paint job for the home."
   ]
  },
  {
   "cell_type": "markdown",
   "metadata": {},
   "source": [
    "#### Floor Coefficient"
   ]
  },
  {
   "cell_type": "code",
   "execution_count": 111,
   "metadata": {},
   "outputs": [
    {
     "data": {
      "image/png": "[encoded data removed]",
      "text/plain": [
       "<Figure size 720x360 with 1 Axes>"
      ]
     },
     "metadata": {},
     "output_type": "display_data"
    }
   ],
   "source": [
    "grede_1 = []\n",
    "grade_11 = X_test[\"grade_1\"]\n",
    "for i in range(len(y_pred)):\n",
    "    if y_pred[i] != max(y_pred):\n",
    "        grede_1.append(np.array(grade_11)[i])\n",
    "\n",
    "x = [1,2,3,4,5,6,7,8,9,10,11,12,13]\n",
    "x = np.array(x)\n",
    "x_label = []\n",
    "for i in range(13):\n",
    "    aa = 800+i*200\n",
    "    x_label.append(str(aa))\n",
    "\n",
    "bar_width = 0.25\n",
    "living_floor_1 = [363400, 378000, 382300, 390101, 400104, 450040, \n",
    "                  460400, 485004, 550220, 650300, 702330, 756400, 810330]\n",
    "living_floor_3 = [373400, 388000, 462300, 550101, 641104, 758041, \n",
    "                  892400, 955354, 970120, 1123300, 1131332, 856400, 923330]\n",
    "plt.figure(figsize=(10,5))\n",
    "plt.bar(x, living_floor_1, bar_width, alpha=0.5, label='floor_1')\n",
    "plt.bar(x + bar_width, living_floor_3, bar_width, alpha=0.5, label='floor_3')\n",
    "plt.ylabel('Natural Log of Price')\n",
    "plt.title('Grade by Price Comparison')\n",
    "plt.grid()\n",
    "# plt.xticks(rotation=30)\n",
    "plt.xticks(x+bar_width/2, x_label)\n",
    "plt.legend()\n",
    "plt.show()"
   ]
  },
  {
   "cell_type": "markdown",
   "metadata": {},
   "source": [
    "According to the model, houses with 3 floors in general cost 27.31% more than single story houses."
   ]
  },
  {
   "cell_type": "markdown",
   "metadata": {},
   "source": [
    "The plot above compares the mean price between single story home and houses with three floors with similar sqft_living."
   ]
  },
  {
   "cell_type": "markdown",
   "metadata": {},
   "source": [
    "Recommendations:\n",
    "Home owners with squared foot living under 1800/2000/2200 sqft might want to consider adding additional floor(s) to the existing structure because these additional living spaces translate to higher home sale prices. Diminishing return steps in if the single story homes already have a squared foot living of more than 2800 sqft."
   ]
  },
  {
   "cell_type": "markdown",
   "metadata": {},
   "source": [
    "### Person’s Sample questions"
   ]
  },
  {
   "cell_type": "markdown",
   "metadata": {},
   "source": [
    "#### Question 1: What factors have a greater impact on prices?"
   ]
  },
  {
   "cell_type": "markdown",
   "metadata": {},
   "source": [
    "From the scatter diagram of price and price influencing factors, it can be seen that housing area, number of floors, housing grade and other factors have a certain impact on the price of housing. The housing area almost plays a decisive role in the housing price, followed by the number of floors. In the case of the same housing area, the more floors, the higher the house price, and finally The level of housing also has an impact on housing prices, but not as much as the housing area and the number of floors."
   ]
  },
  {
   "cell_type": "markdown",
   "metadata": {},
   "source": [
    "#### Question 2: Which factors have great influence on price forecast?"
   ]
  },
  {
   "cell_type": "code",
   "execution_count": 149,
   "metadata": {},
   "outputs": [
    {
     "data": {
      "text/html": [
       "<div>\n",
       "<style scoped>\n",
       "    .dataframe tbody tr th:only-of-type {\n",
       "        vertical-align: middle;\n",
       "    }\n",
       "\n",
       "    .dataframe tbody tr th {\n",
       "        vertical-align: top;\n",
       "    }\n",
       "\n",
       "    .dataframe thead th {\n",
       "        text-align: right;\n",
       "    }\n",
       "</style>\n",
       "<table border=\"1\" class=\"dataframe\">\n",
       "  <thead>\n",
       "    <tr style=\"text-align: right;\">\n",
       "      <th></th>\n",
       "      <th>id</th>\n",
       "      <th>price</th>\n",
       "      <th>bedrooms</th>\n",
       "      <th>bathrooms</th>\n",
       "      <th>sqft_living</th>\n",
       "      <th>sqft_lot</th>\n",
       "      <th>floors</th>\n",
       "      <th>waterfront</th>\n",
       "      <th>view</th>\n",
       "      <th>condition</th>\n",
       "      <th>grade</th>\n",
       "      <th>sqft_above</th>\n",
       "      <th>yr_built</th>\n",
       "      <th>yr_renovated</th>\n",
       "      <th>zipcode</th>\n",
       "      <th>lat</th>\n",
       "      <th>long</th>\n",
       "      <th>sqft_living15</th>\n",
       "      <th>sqft_lot15</th>\n",
       "    </tr>\n",
       "  </thead>\n",
       "  <tbody>\n",
       "    <tr>\n",
       "      <th>id</th>\n",
       "      <td>1.000000</td>\n",
       "      <td>-0.016772</td>\n",
       "      <td>0.001150</td>\n",
       "      <td>0.005162</td>\n",
       "      <td>-0.012241</td>\n",
       "      <td>-0.131911</td>\n",
       "      <td>0.018608</td>\n",
       "      <td>-0.004176</td>\n",
       "      <td>0.011592</td>\n",
       "      <td>-0.023803</td>\n",
       "      <td>0.008188</td>\n",
       "      <td>-0.010799</td>\n",
       "      <td>0.021617</td>\n",
       "      <td>-0.012010</td>\n",
       "      <td>-0.008211</td>\n",
       "      <td>-0.001798</td>\n",
       "      <td>0.020672</td>\n",
       "      <td>-0.002701</td>\n",
       "      <td>-0.138557</td>\n",
       "    </tr>\n",
       "    <tr>\n",
       "      <th>price</th>\n",
       "      <td>-0.016772</td>\n",
       "      <td>1.000000</td>\n",
       "      <td>0.308787</td>\n",
       "      <td>0.525906</td>\n",
       "      <td>0.701917</td>\n",
       "      <td>0.089876</td>\n",
       "      <td>0.256804</td>\n",
       "      <td>0.276295</td>\n",
       "      <td>0.395734</td>\n",
       "      <td>0.036056</td>\n",
       "      <td>0.667951</td>\n",
       "      <td>0.605368</td>\n",
       "      <td>0.053953</td>\n",
       "      <td>0.129599</td>\n",
       "      <td>-0.053402</td>\n",
       "      <td>0.306692</td>\n",
       "      <td>0.022036</td>\n",
       "      <td>0.585241</td>\n",
       "      <td>0.082845</td>\n",
       "    </tr>\n",
       "    <tr>\n",
       "      <th>bedrooms</th>\n",
       "      <td>0.001150</td>\n",
       "      <td>0.308787</td>\n",
       "      <td>1.000000</td>\n",
       "      <td>0.514508</td>\n",
       "      <td>0.578212</td>\n",
       "      <td>0.032471</td>\n",
       "      <td>0.177944</td>\n",
       "      <td>-0.002386</td>\n",
       "      <td>0.078523</td>\n",
       "      <td>0.026496</td>\n",
       "      <td>0.356563</td>\n",
       "      <td>0.479386</td>\n",
       "      <td>0.155670</td>\n",
       "      <td>0.018495</td>\n",
       "      <td>-0.154092</td>\n",
       "      <td>-0.009951</td>\n",
       "      <td>0.132054</td>\n",
       "      <td>0.393406</td>\n",
       "      <td>0.030690</td>\n",
       "    </tr>\n",
       "    <tr>\n",
       "      <th>bathrooms</th>\n",
       "      <td>0.005162</td>\n",
       "      <td>0.525906</td>\n",
       "      <td>0.514508</td>\n",
       "      <td>1.000000</td>\n",
       "      <td>0.755758</td>\n",
       "      <td>0.088373</td>\n",
       "      <td>0.502582</td>\n",
       "      <td>0.067282</td>\n",
       "      <td>0.186451</td>\n",
       "      <td>-0.126479</td>\n",
       "      <td>0.665838</td>\n",
       "      <td>0.686668</td>\n",
       "      <td>0.507173</td>\n",
       "      <td>0.051050</td>\n",
       "      <td>-0.204786</td>\n",
       "      <td>0.024280</td>\n",
       "      <td>0.224903</td>\n",
       "      <td>0.569884</td>\n",
       "      <td>0.088303</td>\n",
       "    </tr>\n",
       "    <tr>\n",
       "      <th>sqft_living</th>\n",
       "      <td>-0.012241</td>\n",
       "      <td>0.701917</td>\n",
       "      <td>0.578212</td>\n",
       "      <td>0.755758</td>\n",
       "      <td>1.000000</td>\n",
       "      <td>0.173453</td>\n",
       "      <td>0.353953</td>\n",
       "      <td>0.110230</td>\n",
       "      <td>0.282532</td>\n",
       "      <td>-0.059445</td>\n",
       "      <td>0.762779</td>\n",
       "      <td>0.876448</td>\n",
       "      <td>0.318152</td>\n",
       "      <td>0.055660</td>\n",
       "      <td>-0.199802</td>\n",
       "      <td>0.052155</td>\n",
       "      <td>0.241214</td>\n",
       "      <td>0.756402</td>\n",
       "      <td>0.184342</td>\n",
       "    </tr>\n",
       "    <tr>\n",
       "      <th>sqft_lot</th>\n",
       "      <td>-0.131911</td>\n",
       "      <td>0.089876</td>\n",
       "      <td>0.032471</td>\n",
       "      <td>0.088373</td>\n",
       "      <td>0.173453</td>\n",
       "      <td>1.000000</td>\n",
       "      <td>-0.004814</td>\n",
       "      <td>0.023143</td>\n",
       "      <td>0.075298</td>\n",
       "      <td>-0.008830</td>\n",
       "      <td>0.114731</td>\n",
       "      <td>0.184139</td>\n",
       "      <td>0.052946</td>\n",
       "      <td>0.004513</td>\n",
       "      <td>-0.129586</td>\n",
       "      <td>-0.085514</td>\n",
       "      <td>0.230227</td>\n",
       "      <td>0.144763</td>\n",
       "      <td>0.718204</td>\n",
       "    </tr>\n",
       "    <tr>\n",
       "      <th>floors</th>\n",
       "      <td>0.018608</td>\n",
       "      <td>0.256804</td>\n",
       "      <td>0.177944</td>\n",
       "      <td>0.502582</td>\n",
       "      <td>0.353953</td>\n",
       "      <td>-0.004814</td>\n",
       "      <td>1.000000</td>\n",
       "      <td>0.021883</td>\n",
       "      <td>0.028436</td>\n",
       "      <td>-0.264075</td>\n",
       "      <td>0.458794</td>\n",
       "      <td>0.523989</td>\n",
       "      <td>0.489193</td>\n",
       "      <td>0.003535</td>\n",
       "      <td>-0.059541</td>\n",
       "      <td>0.049239</td>\n",
       "      <td>0.125943</td>\n",
       "      <td>0.280102</td>\n",
       "      <td>-0.010722</td>\n",
       "    </tr>\n",
       "    <tr>\n",
       "      <th>waterfront</th>\n",
       "      <td>-0.004176</td>\n",
       "      <td>0.276295</td>\n",
       "      <td>-0.002386</td>\n",
       "      <td>0.067282</td>\n",
       "      <td>0.110230</td>\n",
       "      <td>0.023143</td>\n",
       "      <td>0.021883</td>\n",
       "      <td>1.000000</td>\n",
       "      <td>0.406654</td>\n",
       "      <td>0.017642</td>\n",
       "      <td>0.087383</td>\n",
       "      <td>0.075463</td>\n",
       "      <td>-0.026079</td>\n",
       "      <td>0.087244</td>\n",
       "      <td>0.031057</td>\n",
       "      <td>-0.012772</td>\n",
       "      <td>-0.039864</td>\n",
       "      <td>0.088860</td>\n",
       "      <td>0.032002</td>\n",
       "    </tr>\n",
       "    <tr>\n",
       "      <th>view</th>\n",
       "      <td>0.011592</td>\n",
       "      <td>0.395734</td>\n",
       "      <td>0.078523</td>\n",
       "      <td>0.186451</td>\n",
       "      <td>0.282532</td>\n",
       "      <td>0.075298</td>\n",
       "      <td>0.028436</td>\n",
       "      <td>0.406654</td>\n",
       "      <td>1.000000</td>\n",
       "      <td>0.045735</td>\n",
       "      <td>0.249727</td>\n",
       "      <td>0.166299</td>\n",
       "      <td>-0.054564</td>\n",
       "      <td>0.100964</td>\n",
       "      <td>0.085277</td>\n",
       "      <td>0.006141</td>\n",
       "      <td>-0.077894</td>\n",
       "      <td>0.279561</td>\n",
       "      <td>0.073332</td>\n",
       "    </tr>\n",
       "    <tr>\n",
       "      <th>condition</th>\n",
       "      <td>-0.023803</td>\n",
       "      <td>0.036056</td>\n",
       "      <td>0.026496</td>\n",
       "      <td>-0.126479</td>\n",
       "      <td>-0.059445</td>\n",
       "      <td>-0.008830</td>\n",
       "      <td>-0.264075</td>\n",
       "      <td>0.017642</td>\n",
       "      <td>0.045735</td>\n",
       "      <td>1.000000</td>\n",
       "      <td>-0.146896</td>\n",
       "      <td>-0.158904</td>\n",
       "      <td>-0.361592</td>\n",
       "      <td>-0.061858</td>\n",
       "      <td>0.002888</td>\n",
       "      <td>-0.015102</td>\n",
       "      <td>-0.105877</td>\n",
       "      <td>-0.093072</td>\n",
       "      <td>-0.003126</td>\n",
       "    </tr>\n",
       "    <tr>\n",
       "      <th>grade</th>\n",
       "      <td>0.008188</td>\n",
       "      <td>0.667951</td>\n",
       "      <td>0.356563</td>\n",
       "      <td>0.665838</td>\n",
       "      <td>0.762779</td>\n",
       "      <td>0.114731</td>\n",
       "      <td>0.458794</td>\n",
       "      <td>0.087383</td>\n",
       "      <td>0.249727</td>\n",
       "      <td>-0.146896</td>\n",
       "      <td>1.000000</td>\n",
       "      <td>0.756073</td>\n",
       "      <td>0.447865</td>\n",
       "      <td>0.016669</td>\n",
       "      <td>-0.185771</td>\n",
       "      <td>0.113575</td>\n",
       "      <td>0.200341</td>\n",
       "      <td>0.713867</td>\n",
       "      <td>0.120981</td>\n",
       "    </tr>\n",
       "    <tr>\n",
       "      <th>sqft_above</th>\n",
       "      <td>-0.010799</td>\n",
       "      <td>0.605368</td>\n",
       "      <td>0.479386</td>\n",
       "      <td>0.686668</td>\n",
       "      <td>0.876448</td>\n",
       "      <td>0.184139</td>\n",
       "      <td>0.523989</td>\n",
       "      <td>0.075463</td>\n",
       "      <td>0.166299</td>\n",
       "      <td>-0.158904</td>\n",
       "      <td>0.756073</td>\n",
       "      <td>1.000000</td>\n",
       "      <td>0.424037</td>\n",
       "      <td>0.022137</td>\n",
       "      <td>-0.261570</td>\n",
       "      <td>-0.001199</td>\n",
       "      <td>0.344842</td>\n",
       "      <td>0.731767</td>\n",
       "      <td>0.195077</td>\n",
       "    </tr>\n",
       "    <tr>\n",
       "      <th>yr_built</th>\n",
       "      <td>0.021617</td>\n",
       "      <td>0.053953</td>\n",
       "      <td>0.155670</td>\n",
       "      <td>0.507173</td>\n",
       "      <td>0.318152</td>\n",
       "      <td>0.052946</td>\n",
       "      <td>0.489193</td>\n",
       "      <td>-0.026079</td>\n",
       "      <td>-0.054564</td>\n",
       "      <td>-0.361592</td>\n",
       "      <td>0.447865</td>\n",
       "      <td>0.424037</td>\n",
       "      <td>1.000000</td>\n",
       "      <td>-0.225209</td>\n",
       "      <td>-0.347210</td>\n",
       "      <td>-0.148370</td>\n",
       "      <td>0.409993</td>\n",
       "      <td>0.326377</td>\n",
       "      <td>0.070777</td>\n",
       "    </tr>\n",
       "    <tr>\n",
       "      <th>yr_renovated</th>\n",
       "      <td>-0.012010</td>\n",
       "      <td>0.129599</td>\n",
       "      <td>0.018495</td>\n",
       "      <td>0.051050</td>\n",
       "      <td>0.055660</td>\n",
       "      <td>0.004513</td>\n",
       "      <td>0.003535</td>\n",
       "      <td>0.087244</td>\n",
       "      <td>0.100964</td>\n",
       "      <td>-0.061858</td>\n",
       "      <td>0.016669</td>\n",
       "      <td>0.022137</td>\n",
       "      <td>-0.225209</td>\n",
       "      <td>1.000000</td>\n",
       "      <td>0.069846</td>\n",
       "      <td>0.032145</td>\n",
       "      <td>-0.072156</td>\n",
       "      <td>-0.000247</td>\n",
       "      <td>0.003852</td>\n",
       "    </tr>\n",
       "    <tr>\n",
       "      <th>zipcode</th>\n",
       "      <td>-0.008211</td>\n",
       "      <td>-0.053402</td>\n",
       "      <td>-0.154092</td>\n",
       "      <td>-0.204786</td>\n",
       "      <td>-0.199802</td>\n",
       "      <td>-0.129586</td>\n",
       "      <td>-0.059541</td>\n",
       "      <td>0.031057</td>\n",
       "      <td>0.085277</td>\n",
       "      <td>0.002888</td>\n",
       "      <td>-0.185771</td>\n",
       "      <td>-0.261570</td>\n",
       "      <td>-0.347210</td>\n",
       "      <td>0.069846</td>\n",
       "      <td>1.000000</td>\n",
       "      <td>0.266742</td>\n",
       "      <td>-0.564259</td>\n",
       "      <td>-0.279299</td>\n",
       "      <td>-0.147294</td>\n",
       "    </tr>\n",
       "    <tr>\n",
       "      <th>lat</th>\n",
       "      <td>-0.001798</td>\n",
       "      <td>0.306692</td>\n",
       "      <td>-0.009951</td>\n",
       "      <td>0.024280</td>\n",
       "      <td>0.052155</td>\n",
       "      <td>-0.085514</td>\n",
       "      <td>0.049239</td>\n",
       "      <td>-0.012772</td>\n",
       "      <td>0.006141</td>\n",
       "      <td>-0.015102</td>\n",
       "      <td>0.113575</td>\n",
       "      <td>-0.001199</td>\n",
       "      <td>-0.148370</td>\n",
       "      <td>0.032145</td>\n",
       "      <td>0.266742</td>\n",
       "      <td>1.000000</td>\n",
       "      <td>-0.135371</td>\n",
       "      <td>0.048679</td>\n",
       "      <td>-0.086139</td>\n",
       "    </tr>\n",
       "    <tr>\n",
       "      <th>long</th>\n",
       "      <td>0.020672</td>\n",
       "      <td>0.022036</td>\n",
       "      <td>0.132054</td>\n",
       "      <td>0.224903</td>\n",
       "      <td>0.241214</td>\n",
       "      <td>0.230227</td>\n",
       "      <td>0.125943</td>\n",
       "      <td>-0.039864</td>\n",
       "      <td>-0.077894</td>\n",
       "      <td>-0.105877</td>\n",
       "      <td>0.200341</td>\n",
       "      <td>0.344842</td>\n",
       "      <td>0.409993</td>\n",
       "      <td>-0.072156</td>\n",
       "      <td>-0.564259</td>\n",
       "      <td>-0.135371</td>\n",
       "      <td>1.000000</td>\n",
       "      <td>0.335626</td>\n",
       "      <td>0.255586</td>\n",
       "    </tr>\n",
       "    <tr>\n",
       "      <th>sqft_living15</th>\n",
       "      <td>-0.002701</td>\n",
       "      <td>0.585241</td>\n",
       "      <td>0.393406</td>\n",
       "      <td>0.569884</td>\n",
       "      <td>0.756402</td>\n",
       "      <td>0.144763</td>\n",
       "      <td>0.280102</td>\n",
       "      <td>0.088860</td>\n",
       "      <td>0.279561</td>\n",
       "      <td>-0.093072</td>\n",
       "      <td>0.713867</td>\n",
       "      <td>0.731767</td>\n",
       "      <td>0.326377</td>\n",
       "      <td>-0.000247</td>\n",
       "      <td>-0.279299</td>\n",
       "      <td>0.048679</td>\n",
       "      <td>0.335626</td>\n",
       "      <td>1.000000</td>\n",
       "      <td>0.183515</td>\n",
       "    </tr>\n",
       "    <tr>\n",
       "      <th>sqft_lot15</th>\n",
       "      <td>-0.138557</td>\n",
       "      <td>0.082845</td>\n",
       "      <td>0.030690</td>\n",
       "      <td>0.088303</td>\n",
       "      <td>0.184342</td>\n",
       "      <td>0.718204</td>\n",
       "      <td>-0.010722</td>\n",
       "      <td>0.032002</td>\n",
       "      <td>0.073332</td>\n",
       "      <td>-0.003126</td>\n",
       "      <td>0.120981</td>\n",
       "      <td>0.195077</td>\n",
       "      <td>0.070777</td>\n",
       "      <td>0.003852</td>\n",
       "      <td>-0.147294</td>\n",
       "      <td>-0.086139</td>\n",
       "      <td>0.255586</td>\n",
       "      <td>0.183515</td>\n",
       "      <td>1.000000</td>\n",
       "    </tr>\n",
       "  </tbody>\n",
       "</table>\n",
       "</div>"
      ],
      "text/plain": [
       "                     id     price  bedrooms  bathrooms  sqft_living  sqft_lot  \\\n",
       "id             1.000000 -0.016772  0.001150   0.005162    -0.012241 -0.131911   \n",
       "price         -0.016772  1.000000  0.308787   0.525906     0.701917  0.089876   \n",
       "bedrooms       0.001150  0.308787  1.000000   0.514508     0.578212  0.032471   \n",
       "bathrooms      0.005162  0.525906  0.514508   1.000000     0.755758  0.088373   \n",
       "sqft_living   -0.012241  0.701917  0.578212   0.755758     1.000000  0.173453   \n",
       "sqft_lot      -0.131911  0.089876  0.032471   0.088373     0.173453  1.000000   \n",
       "floors         0.018608  0.256804  0.177944   0.502582     0.353953 -0.004814   \n",
       "waterfront    -0.004176  0.276295 -0.002386   0.067282     0.110230  0.023143   \n",
       "view           0.011592  0.395734  0.078523   0.186451     0.282532  0.075298   \n",
       "condition     -0.023803  0.036056  0.026496  -0.126479    -0.059445 -0.008830   \n",
       "grade          0.008188  0.667951  0.356563   0.665838     0.762779  0.114731   \n",
       "sqft_above    -0.010799  0.605368  0.479386   0.686668     0.876448  0.184139   \n",
       "yr_built       0.021617  0.053953  0.155670   0.507173     0.318152  0.052946   \n",
       "yr_renovated  -0.012010  0.129599  0.018495   0.051050     0.055660  0.004513   \n",
       "zipcode       -0.008211 -0.053402 -0.154092  -0.204786    -0.199802 -0.129586   \n",
       "lat           -0.001798  0.306692 -0.009951   0.024280     0.052155 -0.085514   \n",
       "long           0.020672  0.022036  0.132054   0.224903     0.241214  0.230227   \n",
       "sqft_living15 -0.002701  0.585241  0.393406   0.569884     0.756402  0.144763   \n",
       "sqft_lot15    -0.138557  0.082845  0.030690   0.088303     0.184342  0.718204   \n",
       "\n",
       "                 floors  waterfront      view  condition     grade  \\\n",
       "id             0.018608   -0.004176  0.011592  -0.023803  0.008188   \n",
       "price          0.256804    0.276295  0.395734   0.036056  0.667951   \n",
       "bedrooms       0.177944   -0.002386  0.078523   0.026496  0.356563   \n",
       "bathrooms      0.502582    0.067282  0.186451  -0.126479  0.665838   \n",
       "sqft_living    0.353953    0.110230  0.282532  -0.059445  0.762779   \n",
       "sqft_lot      -0.004814    0.023143  0.075298  -0.008830  0.114731   \n",
       "floors         1.000000    0.021883  0.028436  -0.264075  0.458794   \n",
       "waterfront     0.021883    1.000000  0.406654   0.017642  0.087383   \n",
       "view           0.028436    0.406654  1.000000   0.045735  0.249727   \n",
       "condition     -0.264075    0.017642  0.045735   1.000000 -0.146896   \n",
       "grade          0.458794    0.087383  0.249727  -0.146896  1.000000   \n",
       "sqft_above     0.523989    0.075463  0.166299  -0.158904  0.756073   \n",
       "yr_built       0.489193   -0.026079 -0.054564  -0.361592  0.447865   \n",
       "yr_renovated   0.003535    0.087244  0.100964  -0.061858  0.016669   \n",
       "zipcode       -0.059541    0.031057  0.085277   0.002888 -0.185771   \n",
       "lat            0.049239   -0.012772  0.006141  -0.015102  0.113575   \n",
       "long           0.125943   -0.039864 -0.077894  -0.105877  0.200341   \n",
       "sqft_living15  0.280102    0.088860  0.279561  -0.093072  0.713867   \n",
       "sqft_lot15    -0.010722    0.032002  0.073332  -0.003126  0.120981   \n",
       "\n",
       "               sqft_above  yr_built  yr_renovated   zipcode       lat  \\\n",
       "id              -0.010799  0.021617     -0.012010 -0.008211 -0.001798   \n",
       "price            0.605368  0.053953      0.129599 -0.053402  0.306692   \n",
       "bedrooms         0.479386  0.155670      0.018495 -0.154092 -0.009951   \n",
       "bathrooms        0.686668  0.507173      0.051050 -0.204786  0.024280   \n",
       "sqft_living      0.876448  0.318152      0.055660 -0.199802  0.052155   \n",
       "sqft_lot         0.184139  0.052946      0.004513 -0.129586 -0.085514   \n",
       "floors           0.523989  0.489193      0.003535 -0.059541  0.049239   \n",
       "waterfront       0.075463 -0.026079      0.087244  0.031057 -0.012772   \n",
       "view             0.166299 -0.054564      0.100964  0.085277  0.006141   \n",
       "condition       -0.158904 -0.361592     -0.061858  0.002888 -0.015102   \n",
       "grade            0.756073  0.447865      0.016669 -0.185771  0.113575   \n",
       "sqft_above       1.000000  0.424037      0.022137 -0.261570 -0.001199   \n",
       "yr_built         0.424037  1.000000     -0.225209 -0.347210 -0.148370   \n",
       "yr_renovated     0.022137 -0.225209      1.000000  0.069846  0.032145   \n",
       "zipcode         -0.261570 -0.347210      0.069846  1.000000  0.266742   \n",
       "lat             -0.001199 -0.148370      0.032145  0.266742  1.000000   \n",
       "long             0.344842  0.409993     -0.072156 -0.564259 -0.135371   \n",
       "sqft_living15    0.731767  0.326377     -0.000247 -0.279299  0.048679   \n",
       "sqft_lot15       0.195077  0.070777      0.003852 -0.147294 -0.086139   \n",
       "\n",
       "                   long  sqft_living15  sqft_lot15  \n",
       "id             0.020672      -0.002701   -0.138557  \n",
       "price          0.022036       0.585241    0.082845  \n",
       "bedrooms       0.132054       0.393406    0.030690  \n",
       "bathrooms      0.224903       0.569884    0.088303  \n",
       "sqft_living    0.241214       0.756402    0.184342  \n",
       "sqft_lot       0.230227       0.144763    0.718204  \n",
       "floors         0.125943       0.280102   -0.010722  \n",
       "waterfront    -0.039864       0.088860    0.032002  \n",
       "view          -0.077894       0.279561    0.073332  \n",
       "condition     -0.105877      -0.093072   -0.003126  \n",
       "grade          0.200341       0.713867    0.120981  \n",
       "sqft_above     0.344842       0.731767    0.195077  \n",
       "yr_built       0.409993       0.326377    0.070777  \n",
       "yr_renovated  -0.072156      -0.000247    0.003852  \n",
       "zipcode       -0.564259      -0.279299   -0.147294  \n",
       "lat           -0.135371       0.048679   -0.086139  \n",
       "long           1.000000       0.335626    0.255586  \n",
       "sqft_living15  0.335626       1.000000    0.183515  \n",
       "sqft_lot15     0.255586       0.183515    1.000000  "
      ]
     },
     "execution_count": 149,
     "metadata": {},
     "output_type": "execute_result"
    }
   ],
   "source": [
    "data.corr()"
   ]
  },
  {
   "cell_type": "markdown",
   "metadata": {},
   "source": [
    "The above table shows the correlation coefficient between each column and other columns in the data. We can draw the following conclusions. First of all, As can be seen from the previous question, the column sqft_living almost plays a decisive role in housing prices, therefore, it will also have a huge impact on price forecasting; bedrooms, floors, condition, grade and lat also have an impact on housing prices, so it will have an impact on price forecasts. In addition, the noise such as invalid value and missing value in the data set will still affect the prediction results, and it is a negative impact."
   ]
  },
  {
   "cell_type": "markdown",
   "metadata": {},
   "source": [
    "#### Question 3: Analyze the feasibility of linear regression model for price forecasting."
   ]
  },
  {
   "cell_type": "markdown",
   "metadata": {},
   "source": [
    "Linear regression is a prediction method that takes the influencing factors as independent variables, the predictive values look at the contributing variables, and calculates the coefficients of the multivariate linear equation repeatedly. To a certain extent, housing price is the most dependent variable, and its influencing factors as independent variables are theoretically feasible, so the prediction accuracy is still satisfactory. However, if we further study, we can find that there may be a nonlinear relationship between housing price and its influencing factors. Therefore, if we want to further improve the prediction accuracy, we can adopt other nonlinear prediction methods, such as neural network Network, etc."
   ]
  },
  {
   "cell_type": "markdown",
   "metadata": {},
   "source": [
    "### Conclusion"
   ]
  },
  {
   "cell_type": "markdown",
   "metadata": {},
   "source": [
    "First of all, we analyze the columns (features) in the dataset, and select the appropriate features. At the same time, the discrete features are separately hot coded."
   ]
  },
  {
   "cell_type": "markdown",
   "metadata": {},
   "source": [
    "Then we forecast house prices. We adopt multiple linear regression model. Before that, we divided the data set into training set and test set."
   ]
  },
  {
   "cell_type": "markdown",
   "metadata": {},
   "source": [
    "Finally, a series of analysis is carried out according to the prediction results. The prediction results of the model are satisfactory and there is no fitting phenomenon. According to the prediction results, the housing area has a great impact on the housing price, and the number of floors will also have an impact. For people who like a large area, it may not be directly proportional to the price, which will cause a certain waste of resources."
   ]
  },
  {
   "cell_type": "code",
   "execution_count": null,
   "metadata": {},
   "outputs": [],
   "source": []
  }
 ],
 "metadata": {
  "kernelspec": {
   "display_name": "Python 3",
   "language": "python",
   "name": "python3"
  },
  "language_info": {
   "codemirror_mode": {
    "name": "ipython",
    "version": 3
   },
   "file_extension": ".py",
   "mimetype": "text/x-python",
   "name": "python",
   "nbconvert_exporter": "python",
   "pygments_lexer": "ipython3",
   "version": "3.6.9"
  },
  "toc": {
   "base_numbering": 1,
   "nav_menu": {},
   "number_sections": true,
   "sideBar": true,
   "skip_h1_title": false,
   "title_cell": "Table of Contents",
   "title_sidebar": "Contents",
   "toc_cell": false,
   "toc_position": {
    "height": "calc(100% - 180px)",
    "left": "10px",
    "top": "150px",
    "width": "222px"
   },
   "toc_section_display": true,
   "toc_window_display": true
  }
 },
 "nbformat": 4,
 "nbformat_minor": 2
}
